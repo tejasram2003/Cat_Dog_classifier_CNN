{
 "cells": [
  {
   "cell_type": "code",
   "execution_count": 1,
   "metadata": {},
   "outputs": [],
   "source": [
    "import os\n",
    "import torch\n",
    "import cv2\n",
    "import numpy as np\n",
    "import tqdm\n",
    "import pickle\n",
    "import torch\n",
    "import torch.nn as nn\n",
    "import torch.nn.functional as F\n",
    "import torch.optim as optim"
   ]
  },
  {
   "cell_type": "code",
   "execution_count": 2,
   "metadata": {},
   "outputs": [],
   "source": [
    "Rebuild_data = True\n",
    "class pet_classification:\n",
    "    def __init__(self):\n",
    "        self.cats = 'kagglecatsanddogs_5340\\PetImages\\Cat'\n",
    "        self.dogs = 'kagglecatsanddogs_5340\\PetImages\\Dog'\n",
    "        self.labels = {self.cats:0,self.dogs:1}\n",
    "        self.catcount = 0\n",
    "        self.dogcount = 0\n",
    "        self.training_data = []\n",
    "\n",
    "    def create_Dataset(self):\n",
    "        for label in self.labels:\n",
    "            print(label)\n",
    "            for file in tqdm.tqdm(os.listdir(label)):\n",
    "                try:\n",
    "                    path = os.path.join(label,file)\n",
    "                    image = cv2.imread(path,cv2.IMREAD_GRAYSCALE)\n",
    "                    image = cv2.resize(image,(50,50))\n",
    "                    self.training_data.append([np.array(image),np.eye(2)[self.labels[label]]])\n",
    "                    \n",
    "                    if label == self.cats:\n",
    "                        self.catcount += 1\n",
    "                    elif label == self.dogs:\n",
    "                        self.dogcount += 1\n",
    "                \n",
    "                except Exception as e:\n",
    "                    # print(str(e))\n",
    "                    pass\n",
    "            \n",
    "        print(f\"Cats: {self.catcount} and Dogs: {self.dogcount}\")\n",
    "        np.random.shuffle(self.training_data)\n",
    "        with open('training_data.npy','wb') as file:\n",
    "            pickle.dump(self.training_data,file)\n",
    "        return self.training_data\n",
    "\n",
    "\n"
   ]
  },
  {
   "cell_type": "code",
   "execution_count": 29,
   "metadata": {},
   "outputs": [
    {
     "name": "stdout",
     "output_type": "stream",
     "text": [
      "kagglecatsanddogs_5340\\PetImages\\Cat\n"
     ]
    },
    {
     "name": "stderr",
     "output_type": "stream",
     "text": [
      "100%|██████████| 12501/12501 [00:08<00:00, 1478.20it/s]\n"
     ]
    },
    {
     "name": "stdout",
     "output_type": "stream",
     "text": [
      "kagglecatsanddogs_5340\\PetImages\\Dog\n"
     ]
    },
    {
     "name": "stderr",
     "output_type": "stream",
     "text": [
      "100%|██████████| 12501/12501 [00:09<00:00, 1372.93it/s]\n"
     ]
    },
    {
     "name": "stdout",
     "output_type": "stream",
     "text": [
      "Cats: 12476 and Dogs: 12470\n"
     ]
    }
   ],
   "source": [
    "something = pet_classification()\n",
    "training_Data = something.create_Dataset()"
   ]
  },
  {
   "cell_type": "code",
   "execution_count": 3,
   "metadata": {},
   "outputs": [],
   "source": [
    "training_data = np.load('training_data.npy',allow_pickle=True)"
   ]
  },
  {
   "cell_type": "code",
   "execution_count": 4,
   "metadata": {},
   "outputs": [
    {
     "name": "stdout",
     "output_type": "stream",
     "text": [
      "24946\n"
     ]
    }
   ],
   "source": [
    "print(len(training_data))"
   ]
  },
  {
   "cell_type": "code",
   "execution_count": 5,
   "metadata": {},
   "outputs": [],
   "source": [
    "class CNN(nn.Module):\n",
    "    def __init__(self):\n",
    "        super().__init__()\n",
    "        self.conv1 = nn.Conv2d(in_channels=1,out_channels=32,kernel_size=5)\n",
    "        self.conv2 = nn.Conv2d(in_channels=32,out_channels=64,kernel_size=5)\n",
    "        self.conv3 = nn.Conv2d(in_channels=64,out_channels=128,kernel_size=5)\n",
    "        self.flatten = nn.Flatten()\n",
    "        self.fc1 = nn.Linear(512,512)\n",
    "        self.fc2 = nn.Linear(512,2)\n",
    "    def forward(self,x):\n",
    "        x = F.max_pool2d(F.relu(self.conv1(x)),(2,2))\n",
    "        x = F.max_pool2d(F.relu(self.conv2(x)),(2,2))\n",
    "        x = F.max_pool2d(F.relu(self.conv3(x)),(2,2))\n",
    "        x = self.flatten(x)\n",
    "        x = F.relu(self.fc1(x))\n",
    "        x = F.softmax(self.fc2(x),dim=1)\n",
    "        return(x)\n",
    "    "
   ]
  },
  {
   "cell_type": "code",
   "execution_count": 6,
   "metadata": {},
   "outputs": [
    {
     "name": "stdout",
     "output_type": "stream",
     "text": [
      "tensor([[0.4821, 0.5179]], grad_fn=<SoftmaxBackward0>)\n"
     ]
    }
   ],
   "source": [
    "model = CNN()\n",
    "something = torch.randn(1, 1, 50, 50)\n",
    "output = model(something)\n",
    "print(output)"
   ]
  },
  {
   "cell_type": "code",
   "execution_count": 7,
   "metadata": {},
   "outputs": [],
   "source": [
    "optimizer = optim.Adam(model.parameters(),lr=0.001)\n",
    "loss_function = nn.MSELoss()\n"
   ]
  },
  {
   "cell_type": "code",
   "execution_count": 8,
   "metadata": {},
   "outputs": [
    {
     "name": "stderr",
     "output_type": "stream",
     "text": [
      "C:\\Users\\tejas\\AppData\\Local\\Temp\\ipykernel_16584\\3621654422.py:1: UserWarning: Creating a tensor from a list of numpy.ndarrays is extremely slow. Please consider converting the list to a single numpy.ndarray with numpy.array() before converting to a tensor. (Triggered internally at C:\\cb\\pytorch_1000000000000\\work\\torch\\csrc\\utils\\tensor_new.cpp:248.)\n",
      "  X = torch.tensor([i[0] for i in training_data]).view(-1,50,50)\n"
     ]
    }
   ],
   "source": [
    "X = torch.tensor([i[0] for i in training_data]).view(-1,50,50)\n",
    "X = X/255\n",
    "y = torch.tensor([i[1] for i in training_data])\n"
   ]
  },
  {
   "cell_type": "code",
   "execution_count": 9,
   "metadata": {},
   "outputs": [
    {
     "data": {
      "text/plain": [
       "24946"
      ]
     },
     "execution_count": 9,
     "metadata": {},
     "output_type": "execute_result"
    }
   ],
   "source": [
    "len(X)"
   ]
  },
  {
   "cell_type": "code",
   "execution_count": 10,
   "metadata": {},
   "outputs": [
    {
     "name": "stdout",
     "output_type": "stream",
     "text": [
      "cuda\n"
     ]
    }
   ],
   "source": [
    "test_size = int(len(X)*0.2)\n",
    "device = torch.device('cuda' if torch.cuda.is_available else 'cpu')\n",
    "model = model.to(device)\n",
    "print(device)"
   ]
  },
  {
   "cell_type": "code",
   "execution_count": 11,
   "metadata": {},
   "outputs": [
    {
     "name": "stdout",
     "output_type": "stream",
     "text": [
      "19957 4989\n",
      "19957 4989\n"
     ]
    }
   ],
   "source": [
    "train_x = X[:-test_size].to(device)\n",
    "train_y = y[:-test_size].to(device)\n",
    "\n",
    "test_x = X[-test_size:].to(device)\n",
    "test_y = y[-test_size:].to(device)\n",
    "\n",
    "print(len(train_x), len(test_x))\n",
    "print(len(train_y), len(test_y))"
   ]
  },
  {
   "cell_type": "code",
   "execution_count": 12,
   "metadata": {},
   "outputs": [],
   "source": [
    "batch_size = 32\n",
    "num_epochs = 5"
   ]
  },
  {
   "cell_type": "code",
   "execution_count": 19,
   "metadata": {},
   "outputs": [
    {
     "name": "stderr",
     "output_type": "stream",
     "text": [
      "100%|██████████| 624/624 [00:02<00:00, 292.03it/s]\n"
     ]
    },
    {
     "name": "stdout",
     "output_type": "stream",
     "text": [
      "Epoch: 0, loss: <built-in method item of Tensor object at 0x000001D987B11C70>\n"
     ]
    },
    {
     "name": "stderr",
     "output_type": "stream",
     "text": [
      "100%|██████████| 624/624 [00:02<00:00, 293.27it/s]\n"
     ]
    },
    {
     "name": "stdout",
     "output_type": "stream",
     "text": [
      "Epoch: 1, loss: <built-in method item of Tensor object at 0x000001D9876E5AE0>\n"
     ]
    },
    {
     "name": "stderr",
     "output_type": "stream",
     "text": [
      "100%|██████████| 624/624 [00:02<00:00, 282.88it/s]\n"
     ]
    },
    {
     "name": "stdout",
     "output_type": "stream",
     "text": [
      "Epoch: 2, loss: <built-in method item of Tensor object at 0x000001D987CC8450>\n"
     ]
    },
    {
     "name": "stderr",
     "output_type": "stream",
     "text": [
      "100%|██████████| 624/624 [00:02<00:00, 279.49it/s]\n"
     ]
    },
    {
     "name": "stdout",
     "output_type": "stream",
     "text": [
      "Epoch: 3, loss: <built-in method item of Tensor object at 0x000001D987A19130>\n"
     ]
    },
    {
     "name": "stderr",
     "output_type": "stream",
     "text": [
      "100%|██████████| 624/624 [00:02<00:00, 269.88it/s]"
     ]
    },
    {
     "name": "stdout",
     "output_type": "stream",
     "text": [
      "Epoch: 4, loss: <built-in method item of Tensor object at 0x000001D986FF99A0>\n"
     ]
    },
    {
     "name": "stderr",
     "output_type": "stream",
     "text": [
      "\n"
     ]
    }
   ],
   "source": [
    "for epoch in range(num_epochs):\n",
    "    for i in tqdm.tqdm(range(0,len(train_x),batch_size)):\n",
    "        batch_x = train_x[i:i+batch_size].view(-1,1,50,50).to(device)\n",
    "        batch_y = train_y[i:i+batch_size].to(device).float()\n",
    "        optimizer.zero_grad()\n",
    "        outputs = model(batch_x)\n",
    "        loss = loss_function(outputs,batch_y)\n",
    "        loss.backward()\n",
    "        optimizer.step()\n",
    "    print(f'Epoch: {epoch}, loss: {loss.item}')\n"
   ]
  },
  {
   "cell_type": "code",
   "execution_count": 14,
   "metadata": {},
   "outputs": [
    {
     "name": "stderr",
     "output_type": "stream",
     "text": [
      "100%|██████████| 4989/4989 [00:06<00:00, 739.46it/s] "
     ]
    },
    {
     "name": "stdout",
     "output_type": "stream",
     "text": [
      "Accuracy: 0.7518540789737422\n"
     ]
    },
    {
     "name": "stderr",
     "output_type": "stream",
     "text": [
      "\n"
     ]
    }
   ],
   "source": [
    "total = 0\n",
    "correct = 0\n",
    "with torch.no_grad():\n",
    "    for i in tqdm.tqdm(range(len(test_x))):\n",
    "        real_class = torch.argmax(test_y[i])\n",
    "        outputs = model(test_x[i].view(-1,1,50,50))[0]\n",
    "        predictions = torch.argmax(outputs)\n",
    "        if predictions==real_class:\n",
    "            correct +=  1\n",
    "        total+=1\n",
    "\n",
    "print(f'Accuracy: {correct/total}')"
   ]
  },
  {
   "cell_type": "code",
   "execution_count": 59,
   "metadata": {},
   "outputs": [],
   "source": [
    "with open('cat_dog_classifier','wb') as file:\n",
    "    pickle.dump(model,file)"
   ]
  },
  {
   "cell_type": "code",
   "execution_count": 13,
   "metadata": {},
   "outputs": [],
   "source": [
    "with open('cat_dog_classifier','rb') as file:\n",
    "    model = pickle.load(file)"
   ]
  },
  {
   "cell_type": "code",
   "execution_count": 61,
   "metadata": {},
   "outputs": [],
   "source": [
    "image_path = 'dog_image.jpg'\n",
    "image = cv2.imread(image_path)\n",
    "image = image.reshape(50,50,-1)\n",
    "image_tensor = torch.tensor(image)\n",
    "image_tensor = image_tensor.to(device)\n",
    "image_tensor = image_tensor.float()\n",
    "image_tensor = image_tensor.view(-1,1,50,50)"
   ]
  },
  {
   "cell_type": "code",
   "execution_count": 63,
   "metadata": {},
   "outputs": [
    {
     "name": "stdout",
     "output_type": "stream",
     "text": [
      "dog\n"
     ]
    }
   ],
   "source": [
    "output = model(image_tensor)\n",
    "prediction = 'cat' if torch.argmax(output)==0 else 'dog'\n",
    "print(prediction)"
   ]
  },
  {
   "cell_type": "code",
   "execution_count": null,
   "metadata": {},
   "outputs": [],
   "source": []
  },
  {
   "cell_type": "code",
   "execution_count": 51,
   "metadata": {},
   "outputs": [],
   "source": []
  },
  {
   "cell_type": "code",
   "execution_count": null,
   "metadata": {},
   "outputs": [],
   "source": []
  }
 ],
 "metadata": {
  "kernelspec": {
   "display_name": "base",
   "language": "python",
   "name": "python3"
  },
  "language_info": {
   "codemirror_mode": {
    "name": "ipython",
    "version": 3
   },
   "file_extension": ".py",
   "mimetype": "text/x-python",
   "name": "python",
   "nbconvert_exporter": "python",
   "pygments_lexer": "ipython3",
   "version": "3.9.7"
  },
  "orig_nbformat": 4
 },
 "nbformat": 4,
 "nbformat_minor": 2
}
